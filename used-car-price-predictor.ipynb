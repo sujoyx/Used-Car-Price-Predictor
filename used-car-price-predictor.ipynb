{
 "cells": [
  {
   "cell_type": "code",
   "execution_count": 1,
   "id": "2b213dfc",
   "metadata": {},
   "outputs": [],
   "source": [
    "import pandas as pd\n",
    "import numpy as np "
   ]
  },
  {
   "cell_type": "code",
   "execution_count": 2,
   "id": "ba56da98",
   "metadata": {
    "scrolled": false
   },
   "outputs": [
    {
     "data": {
      "text/html": [
       "<div>\n",
       "<style scoped>\n",
       "    .dataframe tbody tr th:only-of-type {\n",
       "        vertical-align: middle;\n",
       "    }\n",
       "\n",
       "    .dataframe tbody tr th {\n",
       "        vertical-align: top;\n",
       "    }\n",
       "\n",
       "    .dataframe thead th {\n",
       "        text-align: right;\n",
       "    }\n",
       "</style>\n",
       "<table border=\"1\" class=\"dataframe\">\n",
       "  <thead>\n",
       "    <tr style=\"text-align: right;\">\n",
       "      <th></th>\n",
       "      <th>Link</th>\n",
       "      <th>Price</th>\n",
       "      <th>Ad ID</th>\n",
       "      <th>Brand Name</th>\n",
       "      <th>Year</th>\n",
       "      <th>Kms Driven</th>\n",
       "      <th>Fuel Type</th>\n",
       "      <th>Model</th>\n",
       "      <th>Variant</th>\n",
       "      <th>Color</th>\n",
       "      <th>Location</th>\n",
       "    </tr>\n",
       "  </thead>\n",
       "  <tbody>\n",
       "    <tr>\n",
       "      <th>0</th>\n",
       "      <td>https://www.quikr.com/cars/used-white-2012-hon...</td>\n",
       "      <td>₹4,25,000</td>\n",
       "      <td>357878127.0</td>\n",
       "      <td>Honda</td>\n",
       "      <td>2012</td>\n",
       "      <td>74,532</td>\n",
       "      <td>Petrol</td>\n",
       "      <td>City</td>\n",
       "      <td>1.5 V MT</td>\n",
       "      <td>White</td>\n",
       "      <td>Mumbai</td>\n",
       "    </tr>\n",
       "    <tr>\n",
       "      <th>1</th>\n",
       "      <td>https://www.quikr.com/cars/used-silver-2008-ma...</td>\n",
       "      <td>₹1,75,000</td>\n",
       "      <td>357878583.0</td>\n",
       "      <td>Maruti Suzuki</td>\n",
       "      <td>2008</td>\n",
       "      <td>50,523</td>\n",
       "      <td>Petrol</td>\n",
       "      <td>Swift</td>\n",
       "      <td>NaN</td>\n",
       "      <td>Silver</td>\n",
       "      <td>Mumbai</td>\n",
       "    </tr>\n",
       "    <tr>\n",
       "      <th>2</th>\n",
       "      <td>https://www.quikr.com/cars/used-2011-maruti-su...</td>\n",
       "      <td>₹1,65,000</td>\n",
       "      <td>357878283.0</td>\n",
       "      <td>Maruti Suzuki</td>\n",
       "      <td>2011</td>\n",
       "      <td>29,900</td>\n",
       "      <td>Petrol</td>\n",
       "      <td>Alto K10</td>\n",
       "      <td>NaN</td>\n",
       "      <td>NaN</td>\n",
       "      <td>Mumbai</td>\n",
       "    </tr>\n",
       "    <tr>\n",
       "      <th>3</th>\n",
       "      <td>https://www.quikr.com/cars/used-red-2012-hyund...</td>\n",
       "      <td>₹2,65,000</td>\n",
       "      <td>357909839.0</td>\n",
       "      <td>Hyundai</td>\n",
       "      <td>2012</td>\n",
       "      <td>37,611</td>\n",
       "      <td>Petrol</td>\n",
       "      <td>I10</td>\n",
       "      <td>Magna</td>\n",
       "      <td>Red</td>\n",
       "      <td>Mumbai</td>\n",
       "    </tr>\n",
       "    <tr>\n",
       "      <th>4</th>\n",
       "      <td>https://www.quikr.com/cars/used-2019-renault-k...</td>\n",
       "      <td>₹4,65,000</td>\n",
       "      <td>358896672.0</td>\n",
       "      <td>Renault</td>\n",
       "      <td>2019</td>\n",
       "      <td>11,500</td>\n",
       "      <td>Petrol</td>\n",
       "      <td>Kwid</td>\n",
       "      <td>1.0 RXT AMT</td>\n",
       "      <td>NaN</td>\n",
       "      <td>Mumbai</td>\n",
       "    </tr>\n",
       "    <tr>\n",
       "      <th>...</th>\n",
       "      <td>...</td>\n",
       "      <td>...</td>\n",
       "      <td>...</td>\n",
       "      <td>...</td>\n",
       "      <td>...</td>\n",
       "      <td>...</td>\n",
       "      <td>...</td>\n",
       "      <td>...</td>\n",
       "      <td>...</td>\n",
       "      <td>...</td>\n",
       "      <td>...</td>\n",
       "    </tr>\n",
       "    <tr>\n",
       "      <th>2604</th>\n",
       "      <td>https://www.quikr.com/cars/used-grey-2012-mahi...</td>\n",
       "      <td>₹1,30,000</td>\n",
       "      <td>359767101.0</td>\n",
       "      <td>Chevrolet</td>\n",
       "      <td>2011</td>\n",
       "      <td>50,240</td>\n",
       "      <td>Petrol</td>\n",
       "      <td>Spark</td>\n",
       "      <td>1.0 LT</td>\n",
       "      <td>Beige</td>\n",
       "      <td>Chennai</td>\n",
       "    </tr>\n",
       "    <tr>\n",
       "      <th>2605</th>\n",
       "      <td>https://www.quikr.com/cars/used-blue-2022-maru...</td>\n",
       "      <td>₹2,00,000</td>\n",
       "      <td>359768961.0</td>\n",
       "      <td>Hyundai</td>\n",
       "      <td>2010</td>\n",
       "      <td>1,05,000</td>\n",
       "      <td>Petrol</td>\n",
       "      <td>Accent</td>\n",
       "      <td>GLE</td>\n",
       "      <td>Red</td>\n",
       "      <td>Bangalore</td>\n",
       "    </tr>\n",
       "    <tr>\n",
       "      <th>2606</th>\n",
       "      <td>https://www.quikr.com/cars/used-2015-hyundai-g...</td>\n",
       "      <td>NaN</td>\n",
       "      <td>NaN</td>\n",
       "      <td>NaN</td>\n",
       "      <td>NaN</td>\n",
       "      <td>NaN</td>\n",
       "      <td>NaN</td>\n",
       "      <td>NaN</td>\n",
       "      <td>NaN</td>\n",
       "      <td>NaN</td>\n",
       "      <td>NaN</td>\n",
       "    </tr>\n",
       "    <tr>\n",
       "      <th>2607</th>\n",
       "      <td>https://www.quikr.com/cars/used-white-2013-hyu...</td>\n",
       "      <td>₹1,10,000</td>\n",
       "      <td>359729654.0</td>\n",
       "      <td>Tata</td>\n",
       "      <td>2018</td>\n",
       "      <td>22,750</td>\n",
       "      <td>Petrol</td>\n",
       "      <td>Nano</td>\n",
       "      <td>NaN</td>\n",
       "      <td>NaN</td>\n",
       "      <td>Bharatpur</td>\n",
       "    </tr>\n",
       "    <tr>\n",
       "      <th>2608</th>\n",
       "      <td>https://www.quikr.com/cars/used-2016-mahindra-...</td>\n",
       "      <td>₹3,00,000</td>\n",
       "      <td>359458980.0</td>\n",
       "      <td>Ford</td>\n",
       "      <td>2014</td>\n",
       "      <td>33,000</td>\n",
       "      <td>Petrol</td>\n",
       "      <td>Fiesta Classic</td>\n",
       "      <td>1.6 Duratec LXI</td>\n",
       "      <td>NaN</td>\n",
       "      <td>North24Parganas</td>\n",
       "    </tr>\n",
       "  </tbody>\n",
       "</table>\n",
       "<p>2609 rows × 11 columns</p>\n",
       "</div>"
      ],
      "text/plain": [
       "                                                   Link      Price  \\\n",
       "0     https://www.quikr.com/cars/used-white-2012-hon...  ₹4,25,000   \n",
       "1     https://www.quikr.com/cars/used-silver-2008-ma...  ₹1,75,000   \n",
       "2     https://www.quikr.com/cars/used-2011-maruti-su...  ₹1,65,000   \n",
       "3     https://www.quikr.com/cars/used-red-2012-hyund...  ₹2,65,000   \n",
       "4     https://www.quikr.com/cars/used-2019-renault-k...  ₹4,65,000   \n",
       "...                                                 ...        ...   \n",
       "2604  https://www.quikr.com/cars/used-grey-2012-mahi...  ₹1,30,000   \n",
       "2605  https://www.quikr.com/cars/used-blue-2022-maru...  ₹2,00,000   \n",
       "2606  https://www.quikr.com/cars/used-2015-hyundai-g...        NaN   \n",
       "2607  https://www.quikr.com/cars/used-white-2013-hyu...  ₹1,10,000   \n",
       "2608  https://www.quikr.com/cars/used-2016-mahindra-...  ₹3,00,000   \n",
       "\n",
       "            Ad ID     Brand Name  Year Kms Driven Fuel Type           Model  \\\n",
       "0     357878127.0          Honda  2012     74,532    Petrol            City   \n",
       "1     357878583.0  Maruti Suzuki  2008     50,523    Petrol           Swift   \n",
       "2     357878283.0  Maruti Suzuki  2011     29,900    Petrol        Alto K10   \n",
       "3     357909839.0        Hyundai  2012     37,611    Petrol             I10   \n",
       "4     358896672.0        Renault  2019     11,500    Petrol            Kwid   \n",
       "...           ...            ...   ...        ...       ...             ...   \n",
       "2604  359767101.0      Chevrolet  2011     50,240    Petrol           Spark   \n",
       "2605  359768961.0        Hyundai  2010   1,05,000    Petrol          Accent   \n",
       "2606          NaN            NaN   NaN        NaN       NaN             NaN   \n",
       "2607  359729654.0           Tata  2018     22,750    Petrol            Nano   \n",
       "2608  359458980.0           Ford  2014     33,000    Petrol  Fiesta Classic   \n",
       "\n",
       "              Variant   Color         Location  \n",
       "0            1.5 V MT   White           Mumbai  \n",
       "1                 NaN  Silver           Mumbai  \n",
       "2                 NaN     NaN           Mumbai  \n",
       "3               Magna     Red           Mumbai  \n",
       "4         1.0 RXT AMT     NaN           Mumbai  \n",
       "...               ...     ...              ...  \n",
       "2604           1.0 LT   Beige          Chennai  \n",
       "2605              GLE     Red        Bangalore  \n",
       "2606              NaN     NaN              NaN  \n",
       "2607              NaN     NaN        Bharatpur  \n",
       "2608  1.6 Duratec LXI     NaN  North24Parganas  \n",
       "\n",
       "[2609 rows x 11 columns]"
      ]
     },
     "execution_count": 2,
     "metadata": {},
     "output_type": "execute_result"
    }
   ],
   "source": [
    "car_df= pd.read_csv('C:\\Data Documents\\Datasate\\Car_df\\Quiker\\df.csv')\n",
    "car_df"
   ]
  },
  {
   "cell_type": "code",
   "execution_count": 3,
   "id": "5a43fec8",
   "metadata": {},
   "outputs": [
    {
     "name": "stdout",
     "output_type": "stream",
     "text": [
      "<class 'pandas.core.frame.DataFrame'>\n",
      "RangeIndex: 2609 entries, 0 to 2608\n",
      "Data columns (total 11 columns):\n",
      " #   Column      Non-Null Count  Dtype  \n",
      "---  ------      --------------  -----  \n",
      " 0   Link        2448 non-null   object \n",
      " 1   Price       2420 non-null   object \n",
      " 2   Ad ID       2420 non-null   float64\n",
      " 3   Brand Name  2419 non-null   object \n",
      " 4   Year        2419 non-null   object \n",
      " 5   Kms Driven  2412 non-null   object \n",
      " 6   Fuel Type   2412 non-null   object \n",
      " 7   Model       2419 non-null   object \n",
      " 8   Variant     1712 non-null   object \n",
      " 9   Color       1773 non-null   object \n",
      " 10  Location    2420 non-null   object \n",
      "dtypes: float64(1), object(10)\n",
      "memory usage: 224.3+ KB\n"
     ]
    }
   ],
   "source": [
    "car_df.info()"
   ]
  },
  {
   "cell_type": "code",
   "execution_count": 4,
   "id": "028fd4cb",
   "metadata": {},
   "outputs": [],
   "source": [
    "# incresing areay output view\n",
    "import sys\n",
    "np.set_printoptions(threshold=sys.maxsize)"
   ]
  },
  {
   "cell_type": "code",
   "execution_count": 5,
   "id": "d3fb4987",
   "metadata": {
    "scrolled": false
   },
   "outputs": [
    {
     "data": {
      "text/plain": [
       "Link          161\n",
       "Price         189\n",
       "Ad ID         189\n",
       "Brand Name    190\n",
       "Year          190\n",
       "Kms Driven    197\n",
       "Fuel Type     197\n",
       "Model         190\n",
       "Variant       897\n",
       "Color         836\n",
       "Location      189\n",
       "dtype: int64"
      ]
     },
     "execution_count": 5,
     "metadata": {},
     "output_type": "execute_result"
    }
   ],
   "source": [
    "# calculation of all nan values\n",
    "car_df.isna().sum()"
   ]
  },
  {
   "cell_type": "markdown",
   "id": "954899a9",
   "metadata": {},
   "source": [
    "# Data cleaning part"
   ]
  },
  {
   "cell_type": "markdown",
   "id": "fc600a3c",
   "metadata": {},
   "source": [
    "### What to do\n",
    "\n",
    "- Drop columns: Link, Ad Id, Variant, Color, Location\n",
    "- Price col has some of values on Lakh \n",
    "- Price col object to int, remove comes and nan values\n",
    "- Year has Before 1995. remove this\n",
    "- Year col object to int \n",
    "- Kms Driven col object to int, remove comes\n",
    "- Fule Type has nan values remove these values\n"
   ]
  },
  {
   "cell_type": "code",
   "execution_count": 6,
   "id": "4a2e906d",
   "metadata": {},
   "outputs": [],
   "source": [
    "# backup \n",
    "backup_car_df= car_df.copy()"
   ]
  },
  {
   "cell_type": "code",
   "execution_count": 7,
   "id": "4208db01",
   "metadata": {
    "scrolled": false
   },
   "outputs": [],
   "source": [
    "# drop unnecessary colunms\n",
    "car_df= car_df.drop(['Link', 'Ad ID', 'Variant', 'Color', 'Location'], axis=1)"
   ]
  },
  {
   "cell_type": "code",
   "execution_count": 8,
   "id": "c2080854",
   "metadata": {
    "scrolled": false
   },
   "outputs": [],
   "source": [
    "# remove null values from Year\n",
    "car_df.dropna(inplace= True)"
   ]
  },
  {
   "cell_type": "code",
   "execution_count": 9,
   "id": "6d157559",
   "metadata": {
    "scrolled": true
   },
   "outputs": [],
   "source": [
    "# remove Before 1995 from Year column and change data type\n",
    "car_df['Year']= car_df['Year'].str.replace('Before 1995', '1995').astype(int)"
   ]
  },
  {
   "cell_type": "code",
   "execution_count": 10,
   "id": "3d49a2ea",
   "metadata": {},
   "outputs": [
    {
     "data": {
      "text/plain": [
       "(2405, 6)"
      ]
     },
     "execution_count": 10,
     "metadata": {},
     "output_type": "execute_result"
    }
   ],
   "source": [
    "car_df.shape"
   ]
  },
  {
   "cell_type": "code",
   "execution_count": 11,
   "id": "2578f052",
   "metadata": {},
   "outputs": [],
   "source": [
    "# remove commes and ₹ from price column\n",
    "car_df['Price']=car_df['Price'].str.replace('₹', '').str.replace(',', '')\n",
    "\n",
    "# remove ''14 laskhs'' in price column\n",
    "car_df= car_df[car_df['Price'].str.isnumeric()] # it takes only numeric vales and remove all the non numeric   \n",
    "\n",
    "# change data type\n",
    "car_df['Price']= car_df.Price.astype(int)"
   ]
  },
  {
   "cell_type": "code",
   "execution_count": 12,
   "id": "1724c932",
   "metadata": {},
   "outputs": [],
   "source": [
    "# remove commes\n",
    "car_df['Kms Driven']=car_df['Kms Driven'].str.replace(',', '')\n",
    "\n",
    "# change data type\n",
    "car_df['Kms Driven']= car_df['Kms Driven'].astype(int)"
   ]
  },
  {
   "cell_type": "code",
   "execution_count": 13,
   "id": "77fb670f",
   "metadata": {},
   "outputs": [
    {
     "data": {
      "text/html": [
       "<div>\n",
       "<style scoped>\n",
       "    .dataframe tbody tr th:only-of-type {\n",
       "        vertical-align: middle;\n",
       "    }\n",
       "\n",
       "    .dataframe tbody tr th {\n",
       "        vertical-align: top;\n",
       "    }\n",
       "\n",
       "    .dataframe thead th {\n",
       "        text-align: right;\n",
       "    }\n",
       "</style>\n",
       "<table border=\"1\" class=\"dataframe\">\n",
       "  <thead>\n",
       "    <tr style=\"text-align: right;\">\n",
       "      <th></th>\n",
       "      <th>Price</th>\n",
       "      <th>Year</th>\n",
       "      <th>Kms Driven</th>\n",
       "    </tr>\n",
       "  </thead>\n",
       "  <tbody>\n",
       "    <tr>\n",
       "      <th>count</th>\n",
       "      <td>2131.000000</td>\n",
       "      <td>2131.000000</td>\n",
       "      <td>2131.000000</td>\n",
       "    </tr>\n",
       "    <tr>\n",
       "      <th>mean</th>\n",
       "      <td>457698.872830</td>\n",
       "      <td>2014.255748</td>\n",
       "      <td>62359.357109</td>\n",
       "    </tr>\n",
       "    <tr>\n",
       "      <th>std</th>\n",
       "      <td>230898.309637</td>\n",
       "      <td>4.295954</td>\n",
       "      <td>53697.994708</td>\n",
       "    </tr>\n",
       "    <tr>\n",
       "      <th>min</th>\n",
       "      <td>30000.000000</td>\n",
       "      <td>1995.000000</td>\n",
       "      <td>5.000000</td>\n",
       "    </tr>\n",
       "    <tr>\n",
       "      <th>25%</th>\n",
       "      <td>275000.000000</td>\n",
       "      <td>2012.000000</td>\n",
       "      <td>29933.000000</td>\n",
       "    </tr>\n",
       "    <tr>\n",
       "      <th>50%</th>\n",
       "      <td>452199.000000</td>\n",
       "      <td>2015.000000</td>\n",
       "      <td>53000.000000</td>\n",
       "    </tr>\n",
       "    <tr>\n",
       "      <th>75%</th>\n",
       "      <td>620099.000000</td>\n",
       "      <td>2017.000000</td>\n",
       "      <td>81663.000000</td>\n",
       "    </tr>\n",
       "    <tr>\n",
       "      <th>max</th>\n",
       "      <td>999599.000000</td>\n",
       "      <td>2022.000000</td>\n",
       "      <td>850000.000000</td>\n",
       "    </tr>\n",
       "  </tbody>\n",
       "</table>\n",
       "</div>"
      ],
      "text/plain": [
       "               Price         Year     Kms Driven\n",
       "count    2131.000000  2131.000000    2131.000000\n",
       "mean   457698.872830  2014.255748   62359.357109\n",
       "std    230898.309637     4.295954   53697.994708\n",
       "min     30000.000000  1995.000000       5.000000\n",
       "25%    275000.000000  2012.000000   29933.000000\n",
       "50%    452199.000000  2015.000000   53000.000000\n",
       "75%    620099.000000  2017.000000   81663.000000\n",
       "max    999599.000000  2022.000000  850000.000000"
      ]
     },
     "execution_count": 13,
     "metadata": {},
     "output_type": "execute_result"
    }
   ],
   "source": [
    "car_df.describe()"
   ]
  },
  {
   "cell_type": "markdown",
   "id": "9e7f263c",
   "metadata": {},
   "source": [
    "# Model Train"
   ]
  },
  {
   "cell_type": "code",
   "execution_count": 14,
   "id": "c62f2b9f",
   "metadata": {},
   "outputs": [],
   "source": [
    "# separate input and output data\n",
    "x= car_df.drop(columns= 'Price')\n",
    "y= car_df['Price']"
   ]
  },
  {
   "cell_type": "code",
   "execution_count": 15,
   "id": "9c57f5c1",
   "metadata": {},
   "outputs": [],
   "source": [
    "# divied numaric and categorical data\n",
    "num_cols= x.select_dtypes(include= np.number).columns.tolist()\n",
    "cat_cols= x.select_dtypes('object').columns.tolist()"
   ]
  },
  {
   "cell_type": "code",
   "execution_count": 16,
   "id": "6be2cdcd",
   "metadata": {},
   "outputs": [],
   "source": [
    "from sklearn.model_selection import train_test_split"
   ]
  },
  {
   "cell_type": "code",
   "execution_count": 17,
   "id": "6f4aba8b",
   "metadata": {},
   "outputs": [],
   "source": [
    "# split data to tain and test data\n",
    "x_train, x_test, y_train, y_test= train_test_split(x,y,test_size= 0.2)"
   ]
  },
  {
   "cell_type": "code",
   "execution_count": 18,
   "id": "ff69461d",
   "metadata": {},
   "outputs": [
    {
     "data": {
      "text/html": [
       "<div>\n",
       "<style scoped>\n",
       "    .dataframe tbody tr th:only-of-type {\n",
       "        vertical-align: middle;\n",
       "    }\n",
       "\n",
       "    .dataframe tbody tr th {\n",
       "        vertical-align: top;\n",
       "    }\n",
       "\n",
       "    .dataframe thead th {\n",
       "        text-align: right;\n",
       "    }\n",
       "</style>\n",
       "<table border=\"1\" class=\"dataframe\">\n",
       "  <thead>\n",
       "    <tr style=\"text-align: right;\">\n",
       "      <th></th>\n",
       "      <th>Brand Name</th>\n",
       "      <th>Year</th>\n",
       "      <th>Kms Driven</th>\n",
       "      <th>Fuel Type</th>\n",
       "      <th>Model</th>\n",
       "    </tr>\n",
       "  </thead>\n",
       "  <tbody>\n",
       "    <tr>\n",
       "      <th>1937</th>\n",
       "      <td>Maruti Suzuki</td>\n",
       "      <td>2010</td>\n",
       "      <td>71000</td>\n",
       "      <td>Petrol</td>\n",
       "      <td>Swift</td>\n",
       "    </tr>\n",
       "    <tr>\n",
       "      <th>2321</th>\n",
       "      <td>Honda</td>\n",
       "      <td>2013</td>\n",
       "      <td>81850</td>\n",
       "      <td>Diesel</td>\n",
       "      <td>Amaze</td>\n",
       "    </tr>\n",
       "    <tr>\n",
       "      <th>1345</th>\n",
       "      <td>Honda</td>\n",
       "      <td>2016</td>\n",
       "      <td>27819</td>\n",
       "      <td>Petrol</td>\n",
       "      <td>Jazz</td>\n",
       "    </tr>\n",
       "    <tr>\n",
       "      <th>2099</th>\n",
       "      <td>Maruti Suzuki</td>\n",
       "      <td>2016</td>\n",
       "      <td>99000</td>\n",
       "      <td>Diesel</td>\n",
       "      <td>Vitara Brezza</td>\n",
       "    </tr>\n",
       "    <tr>\n",
       "      <th>1400</th>\n",
       "      <td>Volkswagen</td>\n",
       "      <td>2017</td>\n",
       "      <td>32893</td>\n",
       "      <td>Petrol</td>\n",
       "      <td>Polo</td>\n",
       "    </tr>\n",
       "    <tr>\n",
       "      <th>...</th>\n",
       "      <td>...</td>\n",
       "      <td>...</td>\n",
       "      <td>...</td>\n",
       "      <td>...</td>\n",
       "      <td>...</td>\n",
       "    </tr>\n",
       "    <tr>\n",
       "      <th>1750</th>\n",
       "      <td>Chevrolet</td>\n",
       "      <td>2011</td>\n",
       "      <td>71200</td>\n",
       "      <td>Petrol</td>\n",
       "      <td>Spark</td>\n",
       "    </tr>\n",
       "    <tr>\n",
       "      <th>1126</th>\n",
       "      <td>Maruti Suzuki</td>\n",
       "      <td>2016</td>\n",
       "      <td>95754</td>\n",
       "      <td>Petrol</td>\n",
       "      <td>Alto 800</td>\n",
       "    </tr>\n",
       "    <tr>\n",
       "      <th>2104</th>\n",
       "      <td>Maruti Suzuki</td>\n",
       "      <td>2018</td>\n",
       "      <td>72000</td>\n",
       "      <td>Diesel</td>\n",
       "      <td>S Cross</td>\n",
       "    </tr>\n",
       "    <tr>\n",
       "      <th>1094</th>\n",
       "      <td>Volkswagen</td>\n",
       "      <td>2019</td>\n",
       "      <td>19121</td>\n",
       "      <td>Petrol</td>\n",
       "      <td>Polo</td>\n",
       "    </tr>\n",
       "    <tr>\n",
       "      <th>16</th>\n",
       "      <td>Datsun</td>\n",
       "      <td>2018</td>\n",
       "      <td>14652</td>\n",
       "      <td>Petrol</td>\n",
       "      <td>Redi GO</td>\n",
       "    </tr>\n",
       "  </tbody>\n",
       "</table>\n",
       "<p>1704 rows × 5 columns</p>\n",
       "</div>"
      ],
      "text/plain": [
       "         Brand Name  Year  Kms Driven Fuel Type          Model\n",
       "1937  Maruti Suzuki  2010       71000    Petrol          Swift\n",
       "2321          Honda  2013       81850    Diesel          Amaze\n",
       "1345          Honda  2016       27819    Petrol           Jazz\n",
       "2099  Maruti Suzuki  2016       99000    Diesel  Vitara Brezza\n",
       "1400     Volkswagen  2017       32893    Petrol           Polo\n",
       "...             ...   ...         ...       ...            ...\n",
       "1750      Chevrolet  2011       71200    Petrol          Spark\n",
       "1126  Maruti Suzuki  2016       95754    Petrol       Alto 800\n",
       "2104  Maruti Suzuki  2018       72000    Diesel        S Cross\n",
       "1094     Volkswagen  2019       19121    Petrol           Polo\n",
       "16           Datsun  2018       14652    Petrol        Redi GO\n",
       "\n",
       "[1704 rows x 5 columns]"
      ]
     },
     "execution_count": 18,
     "metadata": {},
     "output_type": "execute_result"
    }
   ],
   "source": [
    "x_train"
   ]
  },
  {
   "cell_type": "code",
   "execution_count": 19,
   "id": "b43edb5a",
   "metadata": {},
   "outputs": [
    {
     "data": {
      "text/html": [
       "<div>\n",
       "<style scoped>\n",
       "    .dataframe tbody tr th:only-of-type {\n",
       "        vertical-align: middle;\n",
       "    }\n",
       "\n",
       "    .dataframe tbody tr th {\n",
       "        vertical-align: top;\n",
       "    }\n",
       "\n",
       "    .dataframe thead th {\n",
       "        text-align: right;\n",
       "    }\n",
       "</style>\n",
       "<table border=\"1\" class=\"dataframe\">\n",
       "  <thead>\n",
       "    <tr style=\"text-align: right;\">\n",
       "      <th></th>\n",
       "      <th>Brand Name</th>\n",
       "      <th>Year</th>\n",
       "      <th>Kms Driven</th>\n",
       "      <th>Fuel Type</th>\n",
       "      <th>Model</th>\n",
       "    </tr>\n",
       "  </thead>\n",
       "  <tbody>\n",
       "    <tr>\n",
       "      <th>781</th>\n",
       "      <td>Maruti Suzuki</td>\n",
       "      <td>2019</td>\n",
       "      <td>24416</td>\n",
       "      <td>Petrol</td>\n",
       "      <td>Eeco</td>\n",
       "    </tr>\n",
       "    <tr>\n",
       "      <th>1690</th>\n",
       "      <td>Mahindra</td>\n",
       "      <td>2012</td>\n",
       "      <td>108000</td>\n",
       "      <td>Diesel</td>\n",
       "      <td>Xylo</td>\n",
       "    </tr>\n",
       "    <tr>\n",
       "      <th>1853</th>\n",
       "      <td>Maruti Suzuki</td>\n",
       "      <td>2004</td>\n",
       "      <td>45000</td>\n",
       "      <td>Petrol</td>\n",
       "      <td>Zen</td>\n",
       "    </tr>\n",
       "    <tr>\n",
       "      <th>597</th>\n",
       "      <td>Mahindra</td>\n",
       "      <td>2016</td>\n",
       "      <td>52123</td>\n",
       "      <td>Diesel</td>\n",
       "      <td>TUV300</td>\n",
       "    </tr>\n",
       "    <tr>\n",
       "      <th>1289</th>\n",
       "      <td>Honda</td>\n",
       "      <td>2019</td>\n",
       "      <td>46312</td>\n",
       "      <td>Petrol</td>\n",
       "      <td>City</td>\n",
       "    </tr>\n",
       "    <tr>\n",
       "      <th>...</th>\n",
       "      <td>...</td>\n",
       "      <td>...</td>\n",
       "      <td>...</td>\n",
       "      <td>...</td>\n",
       "      <td>...</td>\n",
       "    </tr>\n",
       "    <tr>\n",
       "      <th>2340</th>\n",
       "      <td>Tata</td>\n",
       "      <td>2010</td>\n",
       "      <td>18165</td>\n",
       "      <td>Petrol</td>\n",
       "      <td>Nano</td>\n",
       "    </tr>\n",
       "    <tr>\n",
       "      <th>1381</th>\n",
       "      <td>Maruti Suzuki</td>\n",
       "      <td>2018</td>\n",
       "      <td>19526</td>\n",
       "      <td>Petrol</td>\n",
       "      <td>Ignis</td>\n",
       "    </tr>\n",
       "    <tr>\n",
       "      <th>1886</th>\n",
       "      <td>Hyundai</td>\n",
       "      <td>2009</td>\n",
       "      <td>70000</td>\n",
       "      <td>Petrol</td>\n",
       "      <td>I10</td>\n",
       "    </tr>\n",
       "    <tr>\n",
       "      <th>1539</th>\n",
       "      <td>Maruti Suzuki</td>\n",
       "      <td>2018</td>\n",
       "      <td>36002</td>\n",
       "      <td>Diesel</td>\n",
       "      <td>S Cross</td>\n",
       "    </tr>\n",
       "    <tr>\n",
       "      <th>1842</th>\n",
       "      <td>Maruti Suzuki</td>\n",
       "      <td>2012</td>\n",
       "      <td>22200</td>\n",
       "      <td>Petrol</td>\n",
       "      <td>Alto K10</td>\n",
       "    </tr>\n",
       "  </tbody>\n",
       "</table>\n",
       "<p>427 rows × 5 columns</p>\n",
       "</div>"
      ],
      "text/plain": [
       "         Brand Name  Year  Kms Driven Fuel Type     Model\n",
       "781   Maruti Suzuki  2019       24416    Petrol      Eeco\n",
       "1690       Mahindra  2012      108000    Diesel      Xylo\n",
       "1853  Maruti Suzuki  2004       45000    Petrol       Zen\n",
       "597        Mahindra  2016       52123    Diesel    TUV300\n",
       "1289          Honda  2019       46312    Petrol      City\n",
       "...             ...   ...         ...       ...       ...\n",
       "2340           Tata  2010       18165    Petrol      Nano\n",
       "1381  Maruti Suzuki  2018       19526    Petrol     Ignis\n",
       "1886        Hyundai  2009       70000    Petrol       I10\n",
       "1539  Maruti Suzuki  2018       36002    Diesel   S Cross\n",
       "1842  Maruti Suzuki  2012       22200    Petrol  Alto K10\n",
       "\n",
       "[427 rows x 5 columns]"
      ]
     },
     "execution_count": 19,
     "metadata": {},
     "output_type": "execute_result"
    }
   ],
   "source": [
    "x_test"
   ]
  },
  {
   "cell_type": "code",
   "execution_count": 20,
   "id": "07f1420c",
   "metadata": {},
   "outputs": [
    {
     "data": {
      "text/plain": [
       "1937    265000\n",
       "2321    225000\n",
       "1345    657399\n",
       "2099    600000\n",
       "1400    520799\n",
       "         ...  \n",
       "1750    105000\n",
       "1126    269099\n",
       "2104    820000\n",
       "1094    612899\n",
       "16      414899\n",
       "Name: Price, Length: 1704, dtype: int32"
      ]
     },
     "execution_count": 20,
     "metadata": {},
     "output_type": "execute_result"
    }
   ],
   "source": [
    "y_train"
   ]
  },
  {
   "cell_type": "code",
   "execution_count": 21,
   "id": "65aef386",
   "metadata": {},
   "outputs": [
    {
     "data": {
      "text/plain": [
       "781     480399\n",
       "1690    475000\n",
       "1853     50000\n",
       "597     690000\n",
       "1289    924599\n",
       "         ...  \n",
       "2340     94000\n",
       "1381    546399\n",
       "1886    230000\n",
       "1539    928599\n",
       "1842    300000\n",
       "Name: Price, Length: 427, dtype: int32"
      ]
     },
     "execution_count": 21,
     "metadata": {},
     "output_type": "execute_result"
    }
   ],
   "source": [
    "y_test"
   ]
  },
  {
   "cell_type": "code",
   "execution_count": 22,
   "id": "67313dd0",
   "metadata": {},
   "outputs": [
    {
     "data": {
      "text/plain": [
       "['Brand Name', 'Fuel Type', 'Model']"
      ]
     },
     "execution_count": 22,
     "metadata": {},
     "output_type": "execute_result"
    }
   ],
   "source": [
    "cat_cols"
   ]
  },
  {
   "cell_type": "code",
   "execution_count": 23,
   "id": "a5894797",
   "metadata": {},
   "outputs": [
    {
     "data": {
      "text/plain": [
       "['Year', 'Kms Driven']"
      ]
     },
     "execution_count": 23,
     "metadata": {},
     "output_type": "execute_result"
    }
   ],
   "source": [
    "num_cols"
   ]
  },
  {
   "cell_type": "code",
   "execution_count": 24,
   "id": "b083e106",
   "metadata": {},
   "outputs": [
    {
     "data": {
      "text/plain": [
       "array(['Honda', 'Maruti Suzuki', 'Hyundai', 'Renault', 'Ford', 'Tata',\n",
       "       'Datsun', 'Nissan', 'Mahindra', 'Chevrolet', 'Kia', 'Volkswagen',\n",
       "       'Toyota', 'BMW', 'Fiat', 'Skoda', 'Mercedes Benz', 'Ssangyong',\n",
       "       'Ashok Leyland', 'MG Motors', 'Jeep', 'Mitsubishi', 'Isuzu',\n",
       "       'Volvo', 'Hindustan Motors'], dtype=object)"
      ]
     },
     "execution_count": 24,
     "metadata": {},
     "output_type": "execute_result"
    }
   ],
   "source": [
    "car_df['Brand Name'].unique()"
   ]
  },
  {
   "cell_type": "code",
   "execution_count": 25,
   "id": "f6bf32d8",
   "metadata": {},
   "outputs": [],
   "source": [
    "from sklearn.linear_model import LinearRegression\n",
    "from sklearn.metrics import r2_score\n",
    "from sklearn.preprocessing import OneHotEncoder\n",
    "from sklearn.compose import make_column_transformer\n",
    "from sklearn.pipeline import make_pipeline"
   ]
  },
  {
   "cell_type": "code",
   "execution_count": 26,
   "id": "db287cc0",
   "metadata": {
    "collapsed": true
   },
   "outputs": [
    {
     "data": {
      "text/plain": [
       "[array(['Ashok Leyland', 'BMW', 'Chevrolet', 'Datsun', 'Fiat', 'Ford',\n",
       "        'Hindustan Motors', 'Honda', 'Hyundai', 'Isuzu', 'Jeep', 'Kia',\n",
       "        'MG Motors', 'Mahindra', 'Maruti Suzuki', 'Mercedes Benz',\n",
       "        'Mitsubishi', 'Nissan', 'Renault', 'Skoda', 'Ssangyong', 'Tata',\n",
       "        'Toyota', 'Volkswagen', 'Volvo'], dtype=object),\n",
       " array(['CNG', 'Diesel', 'Electric', 'Hybrid', 'LPG', 'Petrol',\n",
       "        'Petrol + CNG'], dtype=object),\n",
       " array(['3 Series', '370Z', '5 Series', '800', 'A Star', 'ALTROZ', 'AURA',\n",
       "        'Accent', 'Accord', 'Alto', 'Alto 800', 'Alto K10', 'Amaze',\n",
       "        'Ambassador', 'Ameo', 'Aria', 'Aveo', 'BRV', 'Baleno', 'Beat',\n",
       "        'Bolero', 'Brio', 'C Class', 'CRV', 'Camry', 'Captur', 'Celerio',\n",
       "        'Ciaz', 'City', 'City ZX', 'Civic', 'Classic', 'Compass',\n",
       "        'Corolla', 'Corolla Altis', 'Creta', 'Cruze', 'D Max', 'Duster',\n",
       "        'Dzire', 'E Class', 'E2o', 'E2o Plus', 'EON', 'EcoSport',\n",
       "        'Ecosport', 'Eeco', 'Elantra', 'Elite I20', 'Endeavor',\n",
       "        'Endeavour', 'Enjoy', 'Eon', 'Ertiga', 'Estate', 'Esteem',\n",
       "        'Estilo', 'Etios', 'Etios Liva', 'Fabia', 'Fiesta',\n",
       "        'Fiesta Classic', 'Figo', 'Figo Aspire', 'Fluence',\n",
       "        'Fluidic Verna', 'Fortuner', 'Freestyle', 'GO', 'Getz', 'Glanza',\n",
       "        'Grand I10', 'Grand I10 NIOS', 'Grande Punto', 'Gypsy', 'Hector',\n",
       "        'I10', 'I20', 'I20 Active', 'Ignis', 'Ikon', 'Indica',\n",
       "        'Indica EV2', 'Indica V2', 'Indica V2 Xeta', 'Indica Vista',\n",
       "        'Indigo', 'Indigo CS', 'Indigo ECS', 'Indigo XL', 'Innova', 'Jazz',\n",
       "        'Jeep', 'Jetta', 'KUV100', 'Kwid', 'Lancer', 'Laura', 'Linea',\n",
       "        'Linea Classic', 'Lodgy', 'Logan', 'Marazzo', 'Maruti 800',\n",
       "        'Micra', 'Micra Active', 'Mobilio', 'Nano', 'Nexon', 'OMNI E',\n",
       "        'Octavia', 'Omni', 'Optra', 'Passat', 'Polo', 'Pulse', 'Punto',\n",
       "        'Punto Evo', 'Qualis', 'RaceMo', 'Rapid', 'Redi GO', 'RediGo',\n",
       "        'Rexton', 'Ritz', 'S - Presso', 'S Cross', 'S80', 'SX4', 'Safari',\n",
       "        'Sail', 'Santa Fe', 'Santro', 'Santro Xing', 'Scala', 'Scorpio',\n",
       "        'Seltos', 'Spark', 'Stile', 'Stingray', 'Sumo Grande',\n",
       "        'Sumo Victa', 'Sunny', 'Superb', 'Swift', 'Swift 2017',\n",
       "        'Swift Dzire', 'TUV300', 'Tavera Neo', 'Terrano', 'Thar', 'Tiago',\n",
       "        'Tigor', 'Triber', 'Tucson', 'Vento', 'Venue', 'Verito', 'Verna',\n",
       "        'Verna Fluidic', 'Vitara Brezza', 'WR V', 'WRV', 'Wagon R',\n",
       "        'Wagon R 1.0', 'Wagon R Duo', 'Wagon R Stingray', 'Wrangler',\n",
       "        'XL6', 'XUV 500', 'Xcent', 'Xenon XT', 'Xylo', 'Yaris', 'Zen',\n",
       "        'Zen Estilo', 'Zest'], dtype=object)]"
      ]
     },
     "execution_count": 26,
     "metadata": {},
     "output_type": "execute_result"
    }
   ],
   "source": [
    "encoder= OneHotEncoder(sparse= False, handle_unknown= 'ignore')\n",
    "encoder.fit(x[cat_cols])\n",
    "encoder.categories_"
   ]
  },
  {
   "cell_type": "code",
   "execution_count": 27,
   "id": "e4042866",
   "metadata": {
    "scrolled": false
   },
   "outputs": [],
   "source": [
    "# its transfra to all encode columns\n",
    "tra1= make_column_transformer((OneHotEncoder(categories= encoder.categories_),\n",
    "                                     [0,3,4]), \n",
    "                                     remainder= 'passthrough')\n",
    "\n",
    "tra2= LinearRegression()\n",
    "\n",
    "# its create a pipeline \n",
    "pipe= make_pipeline(tra1, tra2)"
   ]
  },
  {
   "cell_type": "code",
   "execution_count": 38,
   "id": "922fee1c",
   "metadata": {
    "collapsed": true
   },
   "outputs": [
    {
     "data": {
      "text/plain": [
       "Pipeline(steps=[('columntransformer',\n",
       "                 ColumnTransformer(remainder='passthrough',\n",
       "                                   transformers=[('onehotencoder',\n",
       "                                                  OneHotEncoder(categories=[array(['Ashok Leyland', 'BMW', 'Chevrolet', 'Datsun', 'Fiat', 'Ford',\n",
       "       'Hindustan Motors', 'Honda', 'Hyundai', 'Isuzu', 'Jeep', 'Kia',\n",
       "       'MG Motors', 'Mahindra', 'Maruti Suzuki', 'Mercedes Benz',\n",
       "       'Mitsubishi', 'Nissan', 'Renault', 'Skoda', 'S...\n",
       "       'Swift Dzire', 'TUV300', 'Tavera Neo', 'Terrano', 'Thar', 'Tiago',\n",
       "       'Tigor', 'Triber', 'Tucson', 'Vento', 'Venue', 'Verito', 'Verna',\n",
       "       'Verna Fluidic', 'Vitara Brezza', 'WR V', 'WRV', 'Wagon R',\n",
       "       'Wagon R 1.0', 'Wagon R Duo', 'Wagon R Stingray', 'Wrangler',\n",
       "       'XL6', 'XUV 500', 'Xcent', 'Xenon XT', 'Xylo', 'Yaris', 'Zen',\n",
       "       'Zen Estilo', 'Zest'], dtype=object)]),\n",
       "                                                  [0, 3, 4])])),\n",
       "                ('linearregression', LinearRegression())])"
      ]
     },
     "execution_count": 38,
     "metadata": {},
     "output_type": "execute_result"
    }
   ],
   "source": [
    "# fit the train inpute and output data in pipeline\n",
    "pipe.fit(x_train, y_train)"
   ]
  },
  {
   "cell_type": "code",
   "execution_count": 35,
   "id": "dde2e3b1",
   "metadata": {},
   "outputs": [
    {
     "data": {
      "text/plain": [
       "0.8192510543758296"
      ]
     },
     "execution_count": 35,
     "metadata": {},
     "output_type": "execute_result"
    }
   ],
   "source": [
    "# prediction in test data\n",
    "y_pred= pipe.predict(x_test)\n",
    "r2_score(y_test, y_pred)"
   ]
  },
  {
   "cell_type": "code",
   "execution_count": 30,
   "id": "22327956",
   "metadata": {
    "collapsed": true
   },
   "outputs": [
    {
     "data": {
      "text/plain": [
       "'for i in range (100):\\n    x_train, x_test, y_train, y_test= train_test_split(x,y,test_size= 0.2, random_state= i)\\n    tra2= LinearRegression()\\n    pipe= make_pipeline(tra1, tra2)\\n    pipe.fit(x_train, y_train)\\n    y_pred= pipe.predict(x_test)\\n    print(r2_score(y_test, y_pred), i)'"
      ]
     },
     "execution_count": 30,
     "metadata": {},
     "output_type": "execute_result"
    }
   ],
   "source": [
    "# how to find best random_test that give me highest score\n",
    "'''for i in range (100):\n",
    "    x_train, x_test, y_train, y_test= train_test_split(x,y,test_size= 0.2, random_state= i)\n",
    "    tra2= LinearRegression()\n",
    "    pipe= make_pipeline(tra1, tra2)\n",
    "    pipe.fit(x_train, y_train)\n",
    "    y_pred= pipe.predict(x_test)\n",
    "    print(r2_score(y_test, y_pred), i)'''"
   ]
  },
  {
   "cell_type": "code",
   "execution_count": 41,
   "id": "ad6fba92",
   "metadata": {
    "scrolled": true
   },
   "outputs": [
    {
     "name": "stdout",
     "output_type": "stream",
     "text": [
      "<class 'pandas.core.frame.DataFrame'>\n",
      "Int64Index: 2131 entries, 0 to 2608\n",
      "Data columns (total 6 columns):\n",
      " #   Column      Non-Null Count  Dtype \n",
      "---  ------      --------------  ----- \n",
      " 0   Price       2131 non-null   int32 \n",
      " 1   Brand Name  2131 non-null   object\n",
      " 2   Year        2131 non-null   int32 \n",
      " 3   Kms Driven  2131 non-null   int32 \n",
      " 4   Fuel Type   2131 non-null   object\n",
      " 5   Model       2131 non-null   object\n",
      "dtypes: int32(3), object(3)\n",
      "memory usage: 91.6+ KB\n"
     ]
    }
   ],
   "source": [
    "car_df.info()"
   ]
  },
  {
   "cell_type": "code",
   "execution_count": 37,
   "id": "825ba0a2",
   "metadata": {},
   "outputs": [
    {
     "data": {
      "text/plain": [
       "array([334527.84949361])"
      ]
     },
     "execution_count": 37,
     "metadata": {},
     "output_type": "execute_result"
    }
   ],
   "source": [
    "pipe.predict(pd.DataFrame([['Maruti Suzuki','2010','48000','Diesel','Swift']], columns=['Brand Name','Year','Kms Driven','Fuel Type','Model']))"
   ]
  },
  {
   "cell_type": "code",
   "execution_count": 39,
   "id": "61f76e10",
   "metadata": {},
   "outputs": [],
   "source": [
    "import pickle"
   ]
  },
  {
   "cell_type": "code",
   "execution_count": 40,
   "id": "f915d5d7",
   "metadata": {},
   "outputs": [],
   "source": [
    "pickle.dump(pipe, open('car_prediction_lrmodel.pickle','wb'))"
   ]
  },
  {
   "cell_type": "code",
   "execution_count": null,
   "id": "54b322de",
   "metadata": {},
   "outputs": [],
   "source": []
  },
  {
   "cell_type": "code",
   "execution_count": null,
   "id": "ca5145a9",
   "metadata": {},
   "outputs": [],
   "source": []
  },
  {
   "cell_type": "code",
   "execution_count": null,
   "id": "6905eb94",
   "metadata": {},
   "outputs": [],
   "source": []
  },
  {
   "cell_type": "code",
   "execution_count": null,
   "id": "e02895c1",
   "metadata": {},
   "outputs": [],
   "source": []
  }
 ],
 "metadata": {
  "kernelspec": {
   "display_name": "Python 3 (ipykernel)",
   "language": "python",
   "name": "python3"
  },
  "language_info": {
   "codemirror_mode": {
    "name": "ipython",
    "version": 3
   },
   "file_extension": ".py",
   "mimetype": "text/x-python",
   "name": "python",
   "nbconvert_exporter": "python",
   "pygments_lexer": "ipython3",
   "version": "3.9.12"
  }
 },
 "nbformat": 4,
 "nbformat_minor": 5
}
